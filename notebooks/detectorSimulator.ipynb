{
 "cells": [
  {
   "cell_type": "markdown",
   "metadata": {},
   "source": [
    "# Simulate diffraction rings on a detector"
   ]
  },
  {
   "cell_type": "code",
   "execution_count": 1,
   "metadata": {},
   "outputs": [],
   "source": [
    "import dddxrd.utils as cry\n",
    "import itertools\n",
    "import numpy as np\n",
    "import matplotlib.pyplot as plt\n",
    "%matplotlib inline"
   ]
  },
  {
   "cell_type": "markdown",
   "metadata": {},
   "source": [
    "## Parameters"
   ]
  },
  {
   "cell_type": "code",
   "execution_count": 8,
   "metadata": {},
   "outputs": [],
   "source": [
    "px,py = 150e-6, 150e-6 #pixel size\n",
    "nx,ny = 2880, 2880 #number of pixels\n",
    "detector = np.zeros((ny,nx))\n",
    "energy=45 #keV\n",
    "SDD=1 #sample to detector distance (m)\n",
    "\n",
    "wavelength=cry.energy_to_wavelength(energy)\n",
    "\n",
    "latticeparameters=[4.0478, 3.61491, 3.5295] #one for each material [Al, Cu, Ni]\n",
    "labels=['Al','Cu','Ni']\n",
    "\n",
    "s = [[0,1,2],[0,1,2],[0,1,2]] #all rings up to [444]\n",
    "hkls=list(itertools.product(*s))"
   ]
  },
  {
   "cell_type": "markdown",
   "metadata": {},
   "source": [
    "## Simulation"
   ]
  },
  {
   "cell_type": "code",
   "execution_count": 9,
   "metadata": {},
   "outputs": [
    {
     "name": "stdout",
     "output_type": "stream",
     "text": [
      "The autoreload extension is already loaded. To reload it, use:\n",
      "  %reload_ext autoreload\n",
      "Material    hkl    d-spacing\n",
      "Al    (0, 0, 2)    2.0239\n",
      "Al    (0, 2, 0)    2.0239\n",
      "Al    (0, 2, 2)    1.4311134144434534\n",
      "Al    (1, 1, 1)    2.336998419625767\n",
      "Al    (2, 0, 0)    2.0239\n",
      "Al    (2, 0, 2)    1.4311134144434534\n",
      "Al    (2, 2, 0)    1.4311134144434534\n",
      "Al    (2, 2, 2)    1.1684992098128835\n",
      "Cu    (0, 0, 2)    1.807455\n",
      "Cu    (0, 2, 0)    1.807455\n",
      "Cu    (0, 2, 2)    1.2780636871895312\n",
      "Cu    (1, 1, 1)    2.08706926159627\n",
      "Cu    (2, 0, 0)    1.807455\n",
      "Cu    (2, 0, 2)    1.2780636871895312\n",
      "Cu    (2, 2, 0)    1.2780636871895312\n",
      "Cu    (2, 2, 2)    1.043534630798135\n",
      "Ni    (0, 0, 2)    1.76475\n",
      "Ni    (0, 2, 0)    1.76475\n",
      "Ni    (0, 2, 2)    1.2478666920989598\n",
      "Ni    (1, 1, 1)    2.037757775104784\n",
      "Ni    (2, 0, 0)    1.76475\n",
      "Ni    (2, 0, 2)    1.2478666920989598\n",
      "Ni    (2, 2, 0)    1.2478666920989598\n",
      "Ni    (2, 2, 2)    1.018878887552392\n"
     ]
    },
    {
     "data": {
      "image/png": "[encoded data removed]",
      "text/plain": [
       "<Figure size 432x288 with 3 Axes>"
      ]
     },
     "metadata": {
      "needs_background": "light"
     },
     "output_type": "display_data"
    }
   ],
   "source": [
    "%load_ext autoreload\n",
    "%autoreload 2\n",
    "import wave\n",
    "\n",
    "\n",
    "fig,ax=plt.subplots(1,len(latticeparameters),sharex=True,sharey=True)\n",
    "\n",
    "print('Material    hkl    d-spacing')\n",
    "for i,lp in enumerate(latticeparameters):\n",
    "    for hkl in hkls:\n",
    "        if cry.check_reflection(hkl,symmetry='fcc'):\n",
    "            d_spacing=cry.d_spacing(hkl,lp)\n",
    "            print(f'{labels[i]}    {hkl}    {d_spacing}')\n",
    "            tth=cry.braggs_law(wave)\n"
   ]
  },
  {
   "cell_type": "code",
   "execution_count": null,
   "metadata": {},
   "outputs": [],
   "source": []
  }
 ],
 "metadata": {
  "kernelspec": {
   "display_name": "Python 3.9.1 ('3dxrd')",
   "language": "python",
   "name": "python3"
  },
  "language_info": {
   "codemirror_mode": {
    "name": "ipython",
    "version": 3
   },
   "file_extension": ".py",
   "mimetype": "text/x-python",
   "name": "python",
   "nbconvert_exporter": "python",
   "pygments_lexer": "ipython3",
   "version": "3.9.1"
  },
  "orig_nbformat": 4,
  "vscode": {
   "interpreter": {
    "hash": "a9b0c9e01f0e00cb8c8b57ccad9d186c03e0e0bab3efa005da7a2729ac76d138"
   }
  }
 },
 "nbformat": 4,
 "nbformat_minor": 2
}
